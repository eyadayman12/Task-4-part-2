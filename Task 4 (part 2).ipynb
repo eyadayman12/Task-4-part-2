{
 "cells": [
  {
   "cell_type": "code",
   "execution_count": 1,
   "id": "143b4fca",
   "metadata": {
    "ExecuteTime": {
     "end_time": "2021-09-03T01:16:22.476719Z",
     "start_time": "2021-09-03T01:16:22.454453Z"
    }
   },
   "outputs": [
    {
     "name": "stdout",
     "output_type": "stream",
     "text": [
      "45\n",
      "35\n",
      "15\n",
      "None\n"
     ]
    }
   ],
   "source": [
    "class student():\n",
    "    def sum(self,a=None,b=None,c=None):\n",
    "        s = 0\n",
    "        if a != None and b != None and c != None:\n",
    "            s = a+b+c\n",
    "        elif a!= None and b!=None:\n",
    "            s = a+b\n",
    "        else:\n",
    "            s = a\n",
    "            \n",
    "        return s\n",
    "    \n",
    "student1 = student()\n",
    "\n",
    "print(student1.sum(10,15,20))\n",
    "print(student1.sum(30,5))\n",
    "print(student1.sum(15))\n",
    "print(student1.sum())"
   ]
  },
  {
   "cell_type": "code",
   "execution_count": null,
   "id": "1b73e480",
   "metadata": {},
   "outputs": [],
   "source": []
  }
 ],
 "metadata": {
  "kernelspec": {
   "display_name": "Python 3",
   "language": "python",
   "name": "python3"
  },
  "language_info": {
   "codemirror_mode": {
    "name": "ipython",
    "version": 3
   },
   "file_extension": ".py",
   "mimetype": "text/x-python",
   "name": "python",
   "nbconvert_exporter": "python",
   "pygments_lexer": "ipython3",
   "version": "3.8.8"
  },
  "toc": {
   "base_numbering": 1,
   "nav_menu": {},
   "number_sections": true,
   "sideBar": true,
   "skip_h1_title": false,
   "title_cell": "Table of Contents",
   "title_sidebar": "Contents",
   "toc_cell": false,
   "toc_position": {},
   "toc_section_display": true,
   "toc_window_display": false
  }
 },
 "nbformat": 4,
 "nbformat_minor": 5
}
